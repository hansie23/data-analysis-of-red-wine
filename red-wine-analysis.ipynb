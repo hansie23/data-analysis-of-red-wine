{
 "cells": [
  {
   "cell_type": "code",
   "execution_count": 60,
   "id": "451c93fa",
   "metadata": {},
   "outputs": [],
   "source": [
    "import numpy as np\n",
    "import pandas as pd\n",
    "import matplotlib.pyplot as plt\n",
    "import seaborn as sns\n",
    "from sklearn.preprocessing import StandardScaler\n",
    "from sklearn.decomposition import PCA\n",
    "from sklearn.model_selection import train_test_split, learning_curve, cross_val_score\n",
    "from sklearn.linear_model import LogisticRegression\n",
    "from sklearn.metrics import classification_report, confusion_matrix"
   ]
  },
  {
   "cell_type": "markdown",
   "id": "4dad39c1",
   "metadata": {},
   "source": [
    "# TASK 1:  Pre-process the data and do data exploration"
   ]
  },
  {
   "cell_type": "markdown",
   "id": "4c9f853e",
   "metadata": {},
   "source": [
    " ### a.) Use Pandas to load data "
   ]
  },
  {
   "cell_type": "code",
   "execution_count": 61,
   "id": "ebf8f2e3",
   "metadata": {},
   "outputs": [
    {
     "data": {
      "text/html": [
       "<div>\n",
       "<style scoped>\n",
       "    .dataframe tbody tr th:only-of-type {\n",
       "        vertical-align: middle;\n",
       "    }\n",
       "\n",
       "    .dataframe tbody tr th {\n",
       "        vertical-align: top;\n",
       "    }\n",
       "\n",
       "    .dataframe thead th {\n",
       "        text-align: right;\n",
       "    }\n",
       "</style>\n",
       "<table border=\"1\" class=\"dataframe\">\n",
       "  <thead>\n",
       "    <tr style=\"text-align: right;\">\n",
       "      <th></th>\n",
       "      <th>fixed acidity</th>\n",
       "      <th>volatile acidity</th>\n",
       "      <th>citric acid</th>\n",
       "      <th>residual sugar</th>\n",
       "      <th>chlorides</th>\n",
       "      <th>free sulfur dioxide</th>\n",
       "      <th>total sulfur dioxide</th>\n",
       "      <th>density</th>\n",
       "      <th>pH</th>\n",
       "      <th>sulphates</th>\n",
       "      <th>alcohol</th>\n",
       "      <th>quality</th>\n",
       "    </tr>\n",
       "  </thead>\n",
       "  <tbody>\n",
       "    <tr>\n",
       "      <th>0</th>\n",
       "      <td>7.4</td>\n",
       "      <td>0.70</td>\n",
       "      <td>0.00</td>\n",
       "      <td>1.9</td>\n",
       "      <td>0.076</td>\n",
       "      <td>11.0</td>\n",
       "      <td>34.0</td>\n",
       "      <td>0.9978</td>\n",
       "      <td>3.51</td>\n",
       "      <td>0.56</td>\n",
       "      <td>9.4</td>\n",
       "      <td>5</td>\n",
       "    </tr>\n",
       "    <tr>\n",
       "      <th>1</th>\n",
       "      <td>7.8</td>\n",
       "      <td>0.88</td>\n",
       "      <td>0.00</td>\n",
       "      <td>2.6</td>\n",
       "      <td>0.098</td>\n",
       "      <td>25.0</td>\n",
       "      <td>67.0</td>\n",
       "      <td>0.9968</td>\n",
       "      <td>3.20</td>\n",
       "      <td>0.68</td>\n",
       "      <td>9.8</td>\n",
       "      <td>5</td>\n",
       "    </tr>\n",
       "    <tr>\n",
       "      <th>2</th>\n",
       "      <td>7.8</td>\n",
       "      <td>0.76</td>\n",
       "      <td>0.04</td>\n",
       "      <td>2.3</td>\n",
       "      <td>0.092</td>\n",
       "      <td>15.0</td>\n",
       "      <td>54.0</td>\n",
       "      <td>0.9970</td>\n",
       "      <td>3.26</td>\n",
       "      <td>0.65</td>\n",
       "      <td>9.8</td>\n",
       "      <td>5</td>\n",
       "    </tr>\n",
       "    <tr>\n",
       "      <th>3</th>\n",
       "      <td>11.2</td>\n",
       "      <td>0.28</td>\n",
       "      <td>0.56</td>\n",
       "      <td>1.9</td>\n",
       "      <td>0.075</td>\n",
       "      <td>17.0</td>\n",
       "      <td>60.0</td>\n",
       "      <td>0.9980</td>\n",
       "      <td>3.16</td>\n",
       "      <td>0.58</td>\n",
       "      <td>9.8</td>\n",
       "      <td>6</td>\n",
       "    </tr>\n",
       "    <tr>\n",
       "      <th>4</th>\n",
       "      <td>7.4</td>\n",
       "      <td>0.70</td>\n",
       "      <td>0.00</td>\n",
       "      <td>1.9</td>\n",
       "      <td>0.076</td>\n",
       "      <td>11.0</td>\n",
       "      <td>34.0</td>\n",
       "      <td>0.9978</td>\n",
       "      <td>3.51</td>\n",
       "      <td>0.56</td>\n",
       "      <td>9.4</td>\n",
       "      <td>5</td>\n",
       "    </tr>\n",
       "  </tbody>\n",
       "</table>\n",
       "</div>"
      ],
      "text/plain": [
       "   fixed acidity  volatile acidity  citric acid  residual sugar  chlorides  \\\n",
       "0            7.4              0.70         0.00             1.9      0.076   \n",
       "1            7.8              0.88         0.00             2.6      0.098   \n",
       "2            7.8              0.76         0.04             2.3      0.092   \n",
       "3           11.2              0.28         0.56             1.9      0.075   \n",
       "4            7.4              0.70         0.00             1.9      0.076   \n",
       "\n",
       "   free sulfur dioxide  total sulfur dioxide  density    pH  sulphates  \\\n",
       "0                 11.0                  34.0   0.9978  3.51       0.56   \n",
       "1                 25.0                  67.0   0.9968  3.20       0.68   \n",
       "2                 15.0                  54.0   0.9970  3.26       0.65   \n",
       "3                 17.0                  60.0   0.9980  3.16       0.58   \n",
       "4                 11.0                  34.0   0.9978  3.51       0.56   \n",
       "\n",
       "   alcohol  quality  \n",
       "0      9.4        5  \n",
       "1      9.8        5  \n",
       "2      9.8        5  \n",
       "3      9.8        6  \n",
       "4      9.4        5  "
      ]
     },
     "execution_count": 61,
     "metadata": {},
     "output_type": "execute_result"
    }
   ],
   "source": [
    "df = pd.read_csv(\"winequality-red.csv\", sep=\";\")\n",
    "df.head()"
   ]
  },
  {
   "cell_type": "code",
   "execution_count": 62,
   "id": "a643c576",
   "metadata": {},
   "outputs": [
    {
     "data": {
      "text/plain": [
       "fixed acidity           0\n",
       "volatile acidity        0\n",
       "citric acid             0\n",
       "residual sugar          0\n",
       "chlorides               0\n",
       "free sulfur dioxide     0\n",
       "total sulfur dioxide    0\n",
       "density                 0\n",
       "pH                      0\n",
       "sulphates               0\n",
       "alcohol                 0\n",
       "quality                 0\n",
       "dtype: int64"
      ]
     },
     "execution_count": 62,
     "metadata": {},
     "output_type": "execute_result"
    }
   ],
   "source": [
    "df.isna().sum()"
   ]
  },
  {
   "cell_type": "markdown",
   "id": "c23b4f73",
   "metadata": {},
   "source": [
    "### b.) Merge all the data with “quality” labels between 6-10 (inclusive) into Class 1 and similarly form Class 2 for the data with “quality” labels between 1-5 (inclusive).\n"
   ]
  },
  {
   "cell_type": "code",
   "execution_count": 63,
   "id": "23f40820",
   "metadata": {},
   "outputs": [
    {
     "data": {
      "text/plain": [
       "array([3, 4, 5, 6, 7, 8], dtype=int64)"
      ]
     },
     "execution_count": 63,
     "metadata": {},
     "output_type": "execute_result"
    }
   ],
   "source": [
    "np.unique(df['quality'])"
   ]
  },
  {
   "cell_type": "code",
   "execution_count": 64,
   "id": "a9ac1ce1",
   "metadata": {},
   "outputs": [
    {
     "data": {
      "text/html": [
       "<div>\n",
       "<style scoped>\n",
       "    .dataframe tbody tr th:only-of-type {\n",
       "        vertical-align: middle;\n",
       "    }\n",
       "\n",
       "    .dataframe tbody tr th {\n",
       "        vertical-align: top;\n",
       "    }\n",
       "\n",
       "    .dataframe thead th {\n",
       "        text-align: right;\n",
       "    }\n",
       "</style>\n",
       "<table border=\"1\" class=\"dataframe\">\n",
       "  <thead>\n",
       "    <tr style=\"text-align: right;\">\n",
       "      <th></th>\n",
       "      <th>fixed acidity</th>\n",
       "      <th>volatile acidity</th>\n",
       "      <th>citric acid</th>\n",
       "      <th>residual sugar</th>\n",
       "      <th>chlorides</th>\n",
       "      <th>free sulfur dioxide</th>\n",
       "      <th>total sulfur dioxide</th>\n",
       "      <th>density</th>\n",
       "      <th>pH</th>\n",
       "      <th>sulphates</th>\n",
       "      <th>alcohol</th>\n",
       "      <th>quality</th>\n",
       "      <th>classes</th>\n",
       "    </tr>\n",
       "  </thead>\n",
       "  <tbody>\n",
       "    <tr>\n",
       "      <th>0</th>\n",
       "      <td>7.4</td>\n",
       "      <td>0.70</td>\n",
       "      <td>0.00</td>\n",
       "      <td>1.9</td>\n",
       "      <td>0.076</td>\n",
       "      <td>11.0</td>\n",
       "      <td>34.0</td>\n",
       "      <td>0.9978</td>\n",
       "      <td>3.51</td>\n",
       "      <td>0.56</td>\n",
       "      <td>9.4</td>\n",
       "      <td>5</td>\n",
       "      <td>Class 2</td>\n",
       "    </tr>\n",
       "    <tr>\n",
       "      <th>1</th>\n",
       "      <td>7.8</td>\n",
       "      <td>0.88</td>\n",
       "      <td>0.00</td>\n",
       "      <td>2.6</td>\n",
       "      <td>0.098</td>\n",
       "      <td>25.0</td>\n",
       "      <td>67.0</td>\n",
       "      <td>0.9968</td>\n",
       "      <td>3.20</td>\n",
       "      <td>0.68</td>\n",
       "      <td>9.8</td>\n",
       "      <td>5</td>\n",
       "      <td>Class 2</td>\n",
       "    </tr>\n",
       "    <tr>\n",
       "      <th>2</th>\n",
       "      <td>7.8</td>\n",
       "      <td>0.76</td>\n",
       "      <td>0.04</td>\n",
       "      <td>2.3</td>\n",
       "      <td>0.092</td>\n",
       "      <td>15.0</td>\n",
       "      <td>54.0</td>\n",
       "      <td>0.9970</td>\n",
       "      <td>3.26</td>\n",
       "      <td>0.65</td>\n",
       "      <td>9.8</td>\n",
       "      <td>5</td>\n",
       "      <td>Class 2</td>\n",
       "    </tr>\n",
       "    <tr>\n",
       "      <th>3</th>\n",
       "      <td>11.2</td>\n",
       "      <td>0.28</td>\n",
       "      <td>0.56</td>\n",
       "      <td>1.9</td>\n",
       "      <td>0.075</td>\n",
       "      <td>17.0</td>\n",
       "      <td>60.0</td>\n",
       "      <td>0.9980</td>\n",
       "      <td>3.16</td>\n",
       "      <td>0.58</td>\n",
       "      <td>9.8</td>\n",
       "      <td>6</td>\n",
       "      <td>Class 1</td>\n",
       "    </tr>\n",
       "    <tr>\n",
       "      <th>4</th>\n",
       "      <td>7.4</td>\n",
       "      <td>0.70</td>\n",
       "      <td>0.00</td>\n",
       "      <td>1.9</td>\n",
       "      <td>0.076</td>\n",
       "      <td>11.0</td>\n",
       "      <td>34.0</td>\n",
       "      <td>0.9978</td>\n",
       "      <td>3.51</td>\n",
       "      <td>0.56</td>\n",
       "      <td>9.4</td>\n",
       "      <td>5</td>\n",
       "      <td>Class 2</td>\n",
       "    </tr>\n",
       "  </tbody>\n",
       "</table>\n",
       "</div>"
      ],
      "text/plain": [
       "   fixed acidity  volatile acidity  citric acid  residual sugar  chlorides  \\\n",
       "0            7.4              0.70         0.00             1.9      0.076   \n",
       "1            7.8              0.88         0.00             2.6      0.098   \n",
       "2            7.8              0.76         0.04             2.3      0.092   \n",
       "3           11.2              0.28         0.56             1.9      0.075   \n",
       "4            7.4              0.70         0.00             1.9      0.076   \n",
       "\n",
       "   free sulfur dioxide  total sulfur dioxide  density    pH  sulphates  \\\n",
       "0                 11.0                  34.0   0.9978  3.51       0.56   \n",
       "1                 25.0                  67.0   0.9968  3.20       0.68   \n",
       "2                 15.0                  54.0   0.9970  3.26       0.65   \n",
       "3                 17.0                  60.0   0.9980  3.16       0.58   \n",
       "4                 11.0                  34.0   0.9978  3.51       0.56   \n",
       "\n",
       "   alcohol  quality  classes  \n",
       "0      9.4        5  Class 2  \n",
       "1      9.8        5  Class 2  \n",
       "2      9.8        5  Class 2  \n",
       "3      9.8        6  Class 1  \n",
       "4      9.4        5  Class 2  "
      ]
     },
     "execution_count": 64,
     "metadata": {},
     "output_type": "execute_result"
    }
   ],
   "source": [
    "classes = ['Class 1', 'Class 2']\n",
    "df['classes'] = np.select((df['quality'] >= 6, df['quality'] <= 5), classes)\n",
    "df.head()"
   ]
  },
  {
   "cell_type": "code",
   "execution_count": 65,
   "id": "16cb551b",
   "metadata": {},
   "outputs": [
    {
     "data": {
      "text/plain": [
       "Class 1    855\n",
       "Class 2    744\n",
       "Name: classes, dtype: int64"
      ]
     },
     "execution_count": 65,
     "metadata": {},
     "output_type": "execute_result"
    }
   ],
   "source": [
    "df['classes'].value_counts()"
   ]
  },
  {
   "cell_type": "markdown",
   "id": "9cfe63cb",
   "metadata": {},
   "source": [
    "### c.) Summarise the dataset by providing descriptive statistics and data visualisation plots, such as, scatter plots, boxplots, principal component analysis visualisation plots, and so on."
   ]
  },
  {
   "cell_type": "code",
   "execution_count": 66,
   "id": "c5d7cade",
   "metadata": {
    "scrolled": true
   },
   "outputs": [
    {
     "data": {
      "text/html": [
       "<div>\n",
       "<style scoped>\n",
       "    .dataframe tbody tr th:only-of-type {\n",
       "        vertical-align: middle;\n",
       "    }\n",
       "\n",
       "    .dataframe tbody tr th {\n",
       "        vertical-align: top;\n",
       "    }\n",
       "\n",
       "    .dataframe thead th {\n",
       "        text-align: right;\n",
       "    }\n",
       "</style>\n",
       "<table border=\"1\" class=\"dataframe\">\n",
       "  <thead>\n",
       "    <tr style=\"text-align: right;\">\n",
       "      <th></th>\n",
       "      <th>fixed acidity</th>\n",
       "      <th>volatile acidity</th>\n",
       "      <th>citric acid</th>\n",
       "      <th>residual sugar</th>\n",
       "      <th>chlorides</th>\n",
       "      <th>free sulfur dioxide</th>\n",
       "      <th>total sulfur dioxide</th>\n",
       "      <th>density</th>\n",
       "      <th>pH</th>\n",
       "      <th>sulphates</th>\n",
       "      <th>alcohol</th>\n",
       "      <th>quality</th>\n",
       "    </tr>\n",
       "  </thead>\n",
       "  <tbody>\n",
       "    <tr>\n",
       "      <th>count</th>\n",
       "      <td>1599.000000</td>\n",
       "      <td>1599.000000</td>\n",
       "      <td>1599.000000</td>\n",
       "      <td>1599.000000</td>\n",
       "      <td>1599.000000</td>\n",
       "      <td>1599.000000</td>\n",
       "      <td>1599.000000</td>\n",
       "      <td>1599.000000</td>\n",
       "      <td>1599.000000</td>\n",
       "      <td>1599.000000</td>\n",
       "      <td>1599.000000</td>\n",
       "      <td>1599.000000</td>\n",
       "    </tr>\n",
       "    <tr>\n",
       "      <th>mean</th>\n",
       "      <td>8.319637</td>\n",
       "      <td>0.527821</td>\n",
       "      <td>0.270976</td>\n",
       "      <td>2.538806</td>\n",
       "      <td>0.087467</td>\n",
       "      <td>15.874922</td>\n",
       "      <td>46.467792</td>\n",
       "      <td>0.996747</td>\n",
       "      <td>3.311113</td>\n",
       "      <td>0.658149</td>\n",
       "      <td>10.422983</td>\n",
       "      <td>5.636023</td>\n",
       "    </tr>\n",
       "    <tr>\n",
       "      <th>std</th>\n",
       "      <td>1.741096</td>\n",
       "      <td>0.179060</td>\n",
       "      <td>0.194801</td>\n",
       "      <td>1.409928</td>\n",
       "      <td>0.047065</td>\n",
       "      <td>10.460157</td>\n",
       "      <td>32.895324</td>\n",
       "      <td>0.001887</td>\n",
       "      <td>0.154386</td>\n",
       "      <td>0.169507</td>\n",
       "      <td>1.065668</td>\n",
       "      <td>0.807569</td>\n",
       "    </tr>\n",
       "    <tr>\n",
       "      <th>min</th>\n",
       "      <td>4.600000</td>\n",
       "      <td>0.120000</td>\n",
       "      <td>0.000000</td>\n",
       "      <td>0.900000</td>\n",
       "      <td>0.012000</td>\n",
       "      <td>1.000000</td>\n",
       "      <td>6.000000</td>\n",
       "      <td>0.990070</td>\n",
       "      <td>2.740000</td>\n",
       "      <td>0.330000</td>\n",
       "      <td>8.400000</td>\n",
       "      <td>3.000000</td>\n",
       "    </tr>\n",
       "    <tr>\n",
       "      <th>25%</th>\n",
       "      <td>7.100000</td>\n",
       "      <td>0.390000</td>\n",
       "      <td>0.090000</td>\n",
       "      <td>1.900000</td>\n",
       "      <td>0.070000</td>\n",
       "      <td>7.000000</td>\n",
       "      <td>22.000000</td>\n",
       "      <td>0.995600</td>\n",
       "      <td>3.210000</td>\n",
       "      <td>0.550000</td>\n",
       "      <td>9.500000</td>\n",
       "      <td>5.000000</td>\n",
       "    </tr>\n",
       "    <tr>\n",
       "      <th>50%</th>\n",
       "      <td>7.900000</td>\n",
       "      <td>0.520000</td>\n",
       "      <td>0.260000</td>\n",
       "      <td>2.200000</td>\n",
       "      <td>0.079000</td>\n",
       "      <td>14.000000</td>\n",
       "      <td>38.000000</td>\n",
       "      <td>0.996750</td>\n",
       "      <td>3.310000</td>\n",
       "      <td>0.620000</td>\n",
       "      <td>10.200000</td>\n",
       "      <td>6.000000</td>\n",
       "    </tr>\n",
       "    <tr>\n",
       "      <th>75%</th>\n",
       "      <td>9.200000</td>\n",
       "      <td>0.640000</td>\n",
       "      <td>0.420000</td>\n",
       "      <td>2.600000</td>\n",
       "      <td>0.090000</td>\n",
       "      <td>21.000000</td>\n",
       "      <td>62.000000</td>\n",
       "      <td>0.997835</td>\n",
       "      <td>3.400000</td>\n",
       "      <td>0.730000</td>\n",
       "      <td>11.100000</td>\n",
       "      <td>6.000000</td>\n",
       "    </tr>\n",
       "    <tr>\n",
       "      <th>max</th>\n",
       "      <td>15.900000</td>\n",
       "      <td>1.580000</td>\n",
       "      <td>1.000000</td>\n",
       "      <td>15.500000</td>\n",
       "      <td>0.611000</td>\n",
       "      <td>72.000000</td>\n",
       "      <td>289.000000</td>\n",
       "      <td>1.003690</td>\n",
       "      <td>4.010000</td>\n",
       "      <td>2.000000</td>\n",
       "      <td>14.900000</td>\n",
       "      <td>8.000000</td>\n",
       "    </tr>\n",
       "  </tbody>\n",
       "</table>\n",
       "</div>"
      ],
      "text/plain": [
       "       fixed acidity  volatile acidity  citric acid  residual sugar  \\\n",
       "count    1599.000000       1599.000000  1599.000000     1599.000000   \n",
       "mean        8.319637          0.527821     0.270976        2.538806   \n",
       "std         1.741096          0.179060     0.194801        1.409928   \n",
       "min         4.600000          0.120000     0.000000        0.900000   \n",
       "25%         7.100000          0.390000     0.090000        1.900000   \n",
       "50%         7.900000          0.520000     0.260000        2.200000   \n",
       "75%         9.200000          0.640000     0.420000        2.600000   \n",
       "max        15.900000          1.580000     1.000000       15.500000   \n",
       "\n",
       "         chlorides  free sulfur dioxide  total sulfur dioxide      density  \\\n",
       "count  1599.000000          1599.000000           1599.000000  1599.000000   \n",
       "mean      0.087467            15.874922             46.467792     0.996747   \n",
       "std       0.047065            10.460157             32.895324     0.001887   \n",
       "min       0.012000             1.000000              6.000000     0.990070   \n",
       "25%       0.070000             7.000000             22.000000     0.995600   \n",
       "50%       0.079000            14.000000             38.000000     0.996750   \n",
       "75%       0.090000            21.000000             62.000000     0.997835   \n",
       "max       0.611000            72.000000            289.000000     1.003690   \n",
       "\n",
       "                pH    sulphates      alcohol      quality  \n",
       "count  1599.000000  1599.000000  1599.000000  1599.000000  \n",
       "mean      3.311113     0.658149    10.422983     5.636023  \n",
       "std       0.154386     0.169507     1.065668     0.807569  \n",
       "min       2.740000     0.330000     8.400000     3.000000  \n",
       "25%       3.210000     0.550000     9.500000     5.000000  \n",
       "50%       3.310000     0.620000    10.200000     6.000000  \n",
       "75%       3.400000     0.730000    11.100000     6.000000  \n",
       "max       4.010000     2.000000    14.900000     8.000000  "
      ]
     },
     "execution_count": 66,
     "metadata": {},
     "output_type": "execute_result"
    }
   ],
   "source": [
    "df.describe()"
   ]
  },
  {
   "cell_type": "code",
   "execution_count": 67,
   "id": "59f6da19",
   "metadata": {},
   "outputs": [
    {
     "data": {
      "image/png": "[encoded data removed]",
      "text/plain": [
       "<Figure size 432x288 with 1 Axes>"
      ]
     },
     "metadata": {
      "needs_background": "light"
     },
     "output_type": "display_data"
    }
   ],
   "source": [
    "df['classes'].value_counts().plot(kind= 'bar',\n",
    "                                  color=\"salmon\")\n",
    "\n",
    "plt.xticks(rotation=0);"
   ]
  },
  {
   "cell_type": "code",
   "execution_count": 68,
   "id": "d686fd1e",
   "metadata": {},
   "outputs": [
    {
     "data": {
      "image/png": "[encoded data removed]",
      "text/plain": [
       "<Figure size 432x288 with 1 Axes>"
      ]
     },
     "metadata": {
      "needs_background": "light"
     },
     "output_type": "display_data"
    }
   ],
   "source": [
    "df['quality'].value_counts().plot(kind= 'bar',\n",
    "                                  color=\"salmon\")\n",
    "plt.xticks(rotation=0);"
   ]
  },
  {
   "cell_type": "code",
   "execution_count": 69,
   "id": "fb01af4c",
   "metadata": {
    "scrolled": false
   },
   "outputs": [
    {
     "data": {
      "image/png": "[encoded data removed]",
      "text/plain": [
       "<Figure size 1080x720 with 1 Axes>"
      ]
     },
     "metadata": {
      "needs_background": "light"
     },
     "output_type": "display_data"
    }
   ],
   "source": [
    "plt.figure(figsize=(15,10))\n",
    "plt.scatter(df.density[df.classes=='Class 1'],\n",
    "            df.alcohol[df.classes=='Class 1'],\n",
    "            c = 'skyblue',\n",
    "            s = 3);\n",
    "plt.scatter(df.density[df.classes=='Class 2'],\n",
    "            df.alcohol[df.classes=='Class 2'],\n",
    "            c ='salmon',\n",
    "            s = 3);\n",
    "\n",
    "plt.title('Classification of red wine in function of density and alcohol level', fontsize = 15)\n",
    "plt.xlabel('Density', fontsize = 15)\n",
    "plt.ylabel('Alcohol', fontsize = 15)\n",
    "plt.legend(['Class 1', 'Class 2'], fontsize = 15);"
   ]
  },
  {
   "cell_type": "code",
   "execution_count": 70,
   "id": "256c3661",
   "metadata": {
    "scrolled": true
   },
   "outputs": [
    {
     "data": {
      "text/html": [
       "<div>\n",
       "<style scoped>\n",
       "    .dataframe tbody tr th:only-of-type {\n",
       "        vertical-align: middle;\n",
       "    }\n",
       "\n",
       "    .dataframe tbody tr th {\n",
       "        vertical-align: top;\n",
       "    }\n",
       "\n",
       "    .dataframe thead th {\n",
       "        text-align: right;\n",
       "    }\n",
       "</style>\n",
       "<table border=\"1\" class=\"dataframe\">\n",
       "  <thead>\n",
       "    <tr style=\"text-align: right;\">\n",
       "      <th></th>\n",
       "      <th>fixed acidity</th>\n",
       "      <th>volatile acidity</th>\n",
       "      <th>citric acid</th>\n",
       "      <th>residual sugar</th>\n",
       "      <th>chlorides</th>\n",
       "      <th>free sulfur dioxide</th>\n",
       "      <th>total sulfur dioxide</th>\n",
       "      <th>density</th>\n",
       "      <th>pH</th>\n",
       "      <th>sulphates</th>\n",
       "      <th>alcohol</th>\n",
       "      <th>quality</th>\n",
       "      <th>classes</th>\n",
       "    </tr>\n",
       "  </thead>\n",
       "  <tbody>\n",
       "    <tr>\n",
       "      <th>0</th>\n",
       "      <td>7.4</td>\n",
       "      <td>0.70</td>\n",
       "      <td>0.00</td>\n",
       "      <td>1.9</td>\n",
       "      <td>0.076</td>\n",
       "      <td>11.0</td>\n",
       "      <td>34.0</td>\n",
       "      <td>0.9978</td>\n",
       "      <td>3.51</td>\n",
       "      <td>0.56</td>\n",
       "      <td>9.4</td>\n",
       "      <td>5</td>\n",
       "      <td>Class 2</td>\n",
       "    </tr>\n",
       "    <tr>\n",
       "      <th>1</th>\n",
       "      <td>7.8</td>\n",
       "      <td>0.88</td>\n",
       "      <td>0.00</td>\n",
       "      <td>2.6</td>\n",
       "      <td>0.098</td>\n",
       "      <td>25.0</td>\n",
       "      <td>67.0</td>\n",
       "      <td>0.9968</td>\n",
       "      <td>3.20</td>\n",
       "      <td>0.68</td>\n",
       "      <td>9.8</td>\n",
       "      <td>5</td>\n",
       "      <td>Class 2</td>\n",
       "    </tr>\n",
       "    <tr>\n",
       "      <th>2</th>\n",
       "      <td>7.8</td>\n",
       "      <td>0.76</td>\n",
       "      <td>0.04</td>\n",
       "      <td>2.3</td>\n",
       "      <td>0.092</td>\n",
       "      <td>15.0</td>\n",
       "      <td>54.0</td>\n",
       "      <td>0.9970</td>\n",
       "      <td>3.26</td>\n",
       "      <td>0.65</td>\n",
       "      <td>9.8</td>\n",
       "      <td>5</td>\n",
       "      <td>Class 2</td>\n",
       "    </tr>\n",
       "    <tr>\n",
       "      <th>3</th>\n",
       "      <td>11.2</td>\n",
       "      <td>0.28</td>\n",
       "      <td>0.56</td>\n",
       "      <td>1.9</td>\n",
       "      <td>0.075</td>\n",
       "      <td>17.0</td>\n",
       "      <td>60.0</td>\n",
       "      <td>0.9980</td>\n",
       "      <td>3.16</td>\n",
       "      <td>0.58</td>\n",
       "      <td>9.8</td>\n",
       "      <td>6</td>\n",
       "      <td>Class 1</td>\n",
       "    </tr>\n",
       "    <tr>\n",
       "      <th>4</th>\n",
       "      <td>7.4</td>\n",
       "      <td>0.70</td>\n",
       "      <td>0.00</td>\n",
       "      <td>1.9</td>\n",
       "      <td>0.076</td>\n",
       "      <td>11.0</td>\n",
       "      <td>34.0</td>\n",
       "      <td>0.9978</td>\n",
       "      <td>3.51</td>\n",
       "      <td>0.56</td>\n",
       "      <td>9.4</td>\n",
       "      <td>5</td>\n",
       "      <td>Class 2</td>\n",
       "    </tr>\n",
       "  </tbody>\n",
       "</table>\n",
       "</div>"
      ],
      "text/plain": [
       "   fixed acidity  volatile acidity  citric acid  residual sugar  chlorides  \\\n",
       "0            7.4              0.70         0.00             1.9      0.076   \n",
       "1            7.8              0.88         0.00             2.6      0.098   \n",
       "2            7.8              0.76         0.04             2.3      0.092   \n",
       "3           11.2              0.28         0.56             1.9      0.075   \n",
       "4            7.4              0.70         0.00             1.9      0.076   \n",
       "\n",
       "   free sulfur dioxide  total sulfur dioxide  density    pH  sulphates  \\\n",
       "0                 11.0                  34.0   0.9978  3.51       0.56   \n",
       "1                 25.0                  67.0   0.9968  3.20       0.68   \n",
       "2                 15.0                  54.0   0.9970  3.26       0.65   \n",
       "3                 17.0                  60.0   0.9980  3.16       0.58   \n",
       "4                 11.0                  34.0   0.9978  3.51       0.56   \n",
       "\n",
       "   alcohol  quality  classes  \n",
       "0      9.4        5  Class 2  \n",
       "1      9.8        5  Class 2  \n",
       "2      9.8        5  Class 2  \n",
       "3      9.8        6  Class 1  \n",
       "4      9.4        5  Class 2  "
      ]
     },
     "execution_count": 70,
     "metadata": {},
     "output_type": "execute_result"
    }
   ],
   "source": [
    "df.head()"
   ]
  },
  {
   "cell_type": "code",
   "execution_count": 71,
   "id": "0968ab81",
   "metadata": {},
   "outputs": [],
   "source": [
    "X = df.drop('classes', axis=1)\n",
    "y = df['classes']"
   ]
  },
  {
   "cell_type": "code",
   "execution_count": 72,
   "id": "2e0d5131",
   "metadata": {},
   "outputs": [
    {
     "data": {
      "text/plain": [
       "array([-0.52835961,  0.96187667, -1.39147228, -0.45321841, -0.24370669,\n",
       "       -0.46619252, -0.37913269,  0.55827446,  1.28864292, -0.57920652,\n",
       "       -0.96024611, -0.78782264])"
      ]
     },
     "execution_count": 72,
     "metadata": {},
     "output_type": "execute_result"
    }
   ],
   "source": [
    "std_features = StandardScaler().fit_transform(X)\n",
    "std_features[0]"
   ]
  },
  {
   "cell_type": "code",
   "execution_count": 73,
   "id": "e0c8e053",
   "metadata": {},
   "outputs": [],
   "source": [
    "pca = PCA(n_components=2)"
   ]
  },
  {
   "cell_type": "code",
   "execution_count": 74,
   "id": "2ed27255",
   "metadata": {},
   "outputs": [],
   "source": [
    "principalComponents = pca.fit_transform(X)"
   ]
  },
  {
   "cell_type": "code",
   "execution_count": 75,
   "id": "4d52d9c2",
   "metadata": {},
   "outputs": [],
   "source": [
    "principalDf = pd.DataFrame(data = principalComponents,\n",
    "                           columns = ['pc1', 'pc2'])"
   ]
  },
  {
   "cell_type": "code",
   "execution_count": 76,
   "id": "6d802991",
   "metadata": {},
   "outputs": [
    {
     "data": {
      "text/html": [
       "<div>\n",
       "<style scoped>\n",
       "    .dataframe tbody tr th:only-of-type {\n",
       "        vertical-align: middle;\n",
       "    }\n",
       "\n",
       "    .dataframe tbody tr th {\n",
       "        vertical-align: top;\n",
       "    }\n",
       "\n",
       "    .dataframe thead th {\n",
       "        text-align: right;\n",
       "    }\n",
       "</style>\n",
       "<table border=\"1\" class=\"dataframe\">\n",
       "  <thead>\n",
       "    <tr style=\"text-align: right;\">\n",
       "      <th></th>\n",
       "      <th>pc1</th>\n",
       "      <th>pc2</th>\n",
       "    </tr>\n",
       "  </thead>\n",
       "  <tbody>\n",
       "    <tr>\n",
       "      <th>0</th>\n",
       "      <td>-13.222027</td>\n",
       "      <td>-2.031922</td>\n",
       "    </tr>\n",
       "    <tr>\n",
       "      <th>1</th>\n",
       "      <td>22.040255</td>\n",
       "      <td>4.401791</td>\n",
       "    </tr>\n",
       "    <tr>\n",
       "      <th>2</th>\n",
       "      <td>7.165362</td>\n",
       "      <td>-2.508321</td>\n",
       "    </tr>\n",
       "    <tr>\n",
       "      <th>3</th>\n",
       "      <td>13.428369</td>\n",
       "      <td>-1.946032</td>\n",
       "    </tr>\n",
       "    <tr>\n",
       "      <th>4</th>\n",
       "      <td>-13.222027</td>\n",
       "      <td>-2.031922</td>\n",
       "    </tr>\n",
       "    <tr>\n",
       "      <th>...</th>\n",
       "      <td>...</td>\n",
       "      <td>...</td>\n",
       "    </tr>\n",
       "    <tr>\n",
       "      <th>1594</th>\n",
       "      <td>1.131806</td>\n",
       "      <td>16.304659</td>\n",
       "    </tr>\n",
       "    <tr>\n",
       "      <th>1595</th>\n",
       "      <td>9.488266</td>\n",
       "      <td>21.630751</td>\n",
       "    </tr>\n",
       "    <tr>\n",
       "      <th>1596</th>\n",
       "      <td>-3.432931</td>\n",
       "      <td>14.274277</td>\n",
       "    </tr>\n",
       "    <tr>\n",
       "      <th>1597</th>\n",
       "      <td>1.135574</td>\n",
       "      <td>16.307692</td>\n",
       "    </tr>\n",
       "    <tr>\n",
       "      <th>1598</th>\n",
       "      <td>-3.875921</td>\n",
       "      <td>3.130112</td>\n",
       "    </tr>\n",
       "  </tbody>\n",
       "</table>\n",
       "<p>1599 rows × 2 columns</p>\n",
       "</div>"
      ],
      "text/plain": [
       "            pc1        pc2\n",
       "0    -13.222027  -2.031922\n",
       "1     22.040255   4.401791\n",
       "2      7.165362  -2.508321\n",
       "3     13.428369  -1.946032\n",
       "4    -13.222027  -2.031922\n",
       "...         ...        ...\n",
       "1594   1.131806  16.304659\n",
       "1595   9.488266  21.630751\n",
       "1596  -3.432931  14.274277\n",
       "1597   1.135574  16.307692\n",
       "1598  -3.875921   3.130112\n",
       "\n",
       "[1599 rows x 2 columns]"
      ]
     },
     "execution_count": 76,
     "metadata": {},
     "output_type": "execute_result"
    }
   ],
   "source": [
    "principalDf"
   ]
  },
  {
   "cell_type": "code",
   "execution_count": 77,
   "id": "21eba2ef",
   "metadata": {
    "scrolled": false
   },
   "outputs": [
    {
     "data": {
      "text/html": [
       "<div>\n",
       "<style scoped>\n",
       "    .dataframe tbody tr th:only-of-type {\n",
       "        vertical-align: middle;\n",
       "    }\n",
       "\n",
       "    .dataframe tbody tr th {\n",
       "        vertical-align: top;\n",
       "    }\n",
       "\n",
       "    .dataframe thead th {\n",
       "        text-align: right;\n",
       "    }\n",
       "</style>\n",
       "<table border=\"1\" class=\"dataframe\">\n",
       "  <thead>\n",
       "    <tr style=\"text-align: right;\">\n",
       "      <th></th>\n",
       "      <th>pc1</th>\n",
       "      <th>pc2</th>\n",
       "      <th>classes</th>\n",
       "    </tr>\n",
       "  </thead>\n",
       "  <tbody>\n",
       "    <tr>\n",
       "      <th>0</th>\n",
       "      <td>-13.222027</td>\n",
       "      <td>-2.031922</td>\n",
       "      <td>Class 2</td>\n",
       "    </tr>\n",
       "    <tr>\n",
       "      <th>1</th>\n",
       "      <td>22.040255</td>\n",
       "      <td>4.401791</td>\n",
       "      <td>Class 2</td>\n",
       "    </tr>\n",
       "    <tr>\n",
       "      <th>2</th>\n",
       "      <td>7.165362</td>\n",
       "      <td>-2.508321</td>\n",
       "      <td>Class 2</td>\n",
       "    </tr>\n",
       "    <tr>\n",
       "      <th>3</th>\n",
       "      <td>13.428369</td>\n",
       "      <td>-1.946032</td>\n",
       "      <td>Class 1</td>\n",
       "    </tr>\n",
       "    <tr>\n",
       "      <th>4</th>\n",
       "      <td>-13.222027</td>\n",
       "      <td>-2.031922</td>\n",
       "      <td>Class 2</td>\n",
       "    </tr>\n",
       "    <tr>\n",
       "      <th>...</th>\n",
       "      <td>...</td>\n",
       "      <td>...</td>\n",
       "      <td>...</td>\n",
       "    </tr>\n",
       "    <tr>\n",
       "      <th>1594</th>\n",
       "      <td>1.131806</td>\n",
       "      <td>16.304659</td>\n",
       "      <td>Class 2</td>\n",
       "    </tr>\n",
       "    <tr>\n",
       "      <th>1595</th>\n",
       "      <td>9.488266</td>\n",
       "      <td>21.630751</td>\n",
       "      <td>Class 1</td>\n",
       "    </tr>\n",
       "    <tr>\n",
       "      <th>1596</th>\n",
       "      <td>-3.432931</td>\n",
       "      <td>14.274277</td>\n",
       "      <td>Class 1</td>\n",
       "    </tr>\n",
       "    <tr>\n",
       "      <th>1597</th>\n",
       "      <td>1.135574</td>\n",
       "      <td>16.307692</td>\n",
       "      <td>Class 2</td>\n",
       "    </tr>\n",
       "    <tr>\n",
       "      <th>1598</th>\n",
       "      <td>-3.875921</td>\n",
       "      <td>3.130112</td>\n",
       "      <td>Class 1</td>\n",
       "    </tr>\n",
       "  </tbody>\n",
       "</table>\n",
       "<p>1599 rows × 3 columns</p>\n",
       "</div>"
      ],
      "text/plain": [
       "            pc1        pc2  classes\n",
       "0    -13.222027  -2.031922  Class 2\n",
       "1     22.040255   4.401791  Class 2\n",
       "2      7.165362  -2.508321  Class 2\n",
       "3     13.428369  -1.946032  Class 1\n",
       "4    -13.222027  -2.031922  Class 2\n",
       "...         ...        ...      ...\n",
       "1594   1.131806  16.304659  Class 2\n",
       "1595   9.488266  21.630751  Class 1\n",
       "1596  -3.432931  14.274277  Class 1\n",
       "1597   1.135574  16.307692  Class 2\n",
       "1598  -3.875921   3.130112  Class 1\n",
       "\n",
       "[1599 rows x 3 columns]"
      ]
     },
     "execution_count": 77,
     "metadata": {},
     "output_type": "execute_result"
    }
   ],
   "source": [
    "finalDf = pd.concat([principalDf, df[['classes']]], axis = 1)\n",
    "finalDf"
   ]
  },
  {
   "cell_type": "code",
   "execution_count": 78,
   "id": "3b17ac08",
   "metadata": {
    "scrolled": false
   },
   "outputs": [
    {
     "data": {
      "image/png": "[encoded data removed]",
      "text/plain": [
       "<Figure size 1440x720 with 1 Axes>"
      ]
     },
     "metadata": {
      "needs_background": "light"
     },
     "output_type": "display_data"
    }
   ],
   "source": [
    "fig = plt.figure(figsize = (20,10))\n",
    "ax = fig.add_subplot() \n",
    "\n",
    "targets = ['Class 1', 'Class 2']\n",
    "colors = ['red', 'green']\n",
    "for target, color in zip(targets,colors):\n",
    "    indicesToKeep = finalDf['classes'] == target\n",
    "    ax.scatter(finalDf.loc[indicesToKeep, 'pc1'],\n",
    "               finalDf.loc[indicesToKeep, 'pc2'],\n",
    "               c = color,\n",
    "               s = 3)\n",
    "    \n",
    "ax.set_xlabel('Principal Component 1', fontsize = 15)\n",
    "ax.set_ylabel('Principal Component 2', fontsize = 15)\n",
    "ax.set_title('2 Component PCA', fontsize = 15)\n",
    "ax.legend(targets, fontsize = 15)\n",
    "ax.grid();"
   ]
  },
  {
   "cell_type": "code",
   "execution_count": 79,
   "id": "9b18fd01",
   "metadata": {},
   "outputs": [
    {
     "data": {
      "text/plain": [
       "array([0.94607951, 0.04834835])"
      ]
     },
     "execution_count": 79,
     "metadata": {},
     "output_type": "execute_result"
    }
   ],
   "source": [
    "pca.explained_variance_ratio_"
   ]
  },
  {
   "cell_type": "markdown",
   "id": "34f5fb3c",
   "metadata": {},
   "source": [
    "**Task 1. Summary:-** Loaded the dataset \"winequality-red.csv\". Found that there are no null values in the dataset. Merged all the data with “quality” labels between 6-10 (inclusive) into Class 1 and similarly formed Class 2 for the data with “quality” labels between 1-5 (inclusive). Plotted bar graphs for the \"classes\" and \"quality\" features of the dataset. Created a scatter plot of \"density\" vs \"alcohol\" features of the dataset for the wine classified as Class 1 and Class 2. Generated a 2 component PCA projection and visualization."
   ]
  },
  {
   "cell_type": "markdown",
   "id": "77a8b1ec",
   "metadata": {},
   "source": [
    "# Task 2: \n",
    "### Divide the data set into a training set (I) and a test set. Usually, we use 20%-30% of the total data points as the test data. It is your choice on how to set the exact ratio. But you need make it clear in your report. You should further divide the training set (I) into a smaller training set (II)and a validation set using the same ratio. "
   ]
  },
  {
   "cell_type": "code",
   "execution_count": 85,
   "id": "c5390253",
   "metadata": {},
   "outputs": [],
   "source": [
    "np.random.seed(23)\n",
    "\n",
    "X_train1, X_test, y_train1, y_test = train_test_split(X,\n",
    "                                                      y,\n",
    "                                                      test_size=0.2)"
   ]
  },
  {
   "cell_type": "code",
   "execution_count": 86,
   "id": "30235d91",
   "metadata": {},
   "outputs": [],
   "source": [
    "np.random.seed(23)\n",
    "\n",
    "X_train2, X_val, y_train2, y_val = train_test_split(X_train1,\n",
    "                                                    y_train1,\n",
    "                                                    test_size=0.2)"
   ]
  },
  {
   "cell_type": "code",
   "execution_count": 87,
   "id": "8df450bc",
   "metadata": {},
   "outputs": [
    {
     "data": {
      "text/plain": [
       "((1279, 12), (1279,))"
      ]
     },
     "execution_count": 87,
     "metadata": {},
     "output_type": "execute_result"
    }
   ],
   "source": [
    "X_train1.shape, y_train1.shape"
   ]
  },
  {
   "cell_type": "code",
   "execution_count": 88,
   "id": "b4f89a1e",
   "metadata": {},
   "outputs": [
    {
     "data": {
      "text/plain": [
       "((1023, 12), (1023,))"
      ]
     },
     "execution_count": 88,
     "metadata": {},
     "output_type": "execute_result"
    }
   ],
   "source": [
    "X_train2.shape, y_train2.shape"
   ]
  },
  {
   "cell_type": "code",
   "execution_count": 89,
   "id": "a6db0bbd",
   "metadata": {},
   "outputs": [
    {
     "data": {
      "text/plain": [
       "((256, 12), (256,))"
      ]
     },
     "execution_count": 89,
     "metadata": {},
     "output_type": "execute_result"
    }
   ],
   "source": [
    "X_val.shape, y_val.shape"
   ]
  },
  {
   "cell_type": "code",
   "execution_count": 90,
   "id": "717951f7",
   "metadata": {},
   "outputs": [
    {
     "data": {
      "text/plain": [
       "((320, 12), (320,))"
      ]
     },
     "execution_count": 90,
     "metadata": {},
     "output_type": "execute_result"
    }
   ],
   "source": [
    "X_test.shape, y_test.shape"
   ]
  },
  {
   "cell_type": "markdown",
   "id": "04775945",
   "metadata": {},
   "source": [
    "**Task 2. Summary:-** Divided the dataset into training set (I) and test set of 80% and 20% respectively. Further divided the training set (I) into training set (II) and validation set of 80% and 20% respectively."
   ]
  },
  {
   "cell_type": "markdown",
   "id": "501360cf",
   "metadata": {},
   "source": [
    "# Task 3: \n",
    "### Do a classification using the logistic regression model "
   ]
  },
  {
   "cell_type": "markdown",
   "id": "a7e33c0f",
   "metadata": {},
   "source": [
    "### a.) Define your own function *([num1, num2] = misPatterns(predictions, labels))* using Python:  \n",
    "### the inputs of this function are predictions and labels; and the outputs of this function are the number (num1) of misclassified patterns whose label is 1 but prediction is 2, and the number (num2) of misclassified patterns whose label is 2 but prediction is 1."
   ]
  },
  {
   "cell_type": "code",
   "execution_count": 91,
   "id": "9e98e057",
   "metadata": {},
   "outputs": [],
   "source": [
    "def misPatterns(predictions, labels):\n",
    "    '''\n",
    "    Inputs predictions and labels, and outputs the following;\n",
    "    - 'num1' for misclassified patterns whose label is 1 but prediction is 2\n",
    "    - 'num2' for misclassified patterns whose label is 2 but prediction is 1\n",
    "    \n",
    "    Parameters:\n",
    "    predictions - Predicted labels\n",
    "    labels - Actual labels  \n",
    "      \n",
    "    '''\n",
    "    ctab = pd.crosstab(labels,\n",
    "                       predictions,\n",
    "                       rownames=['Actual labels'],\n",
    "                       colnames=['Predicted labels'])\n",
    "    num1 = ctab.loc['Class 1', 'Class 2']\n",
    "    num2 = ctab.loc['Class 2', 'Class 1']\n",
    "    \n",
    "    return num1, num2"
   ]
  },
  {
   "cell_type": "markdown",
   "id": "7a68b36c",
   "metadata": {},
   "source": [
    "### b.) Train the model on the training set and report the performance on the test set including accuracy rate and results obtained using the misPatterns function you have defined in the previous task (Task 4 a.). "
   ]
  },
  {
   "cell_type": "code",
   "execution_count": 92,
   "id": "1d8cdcdb",
   "metadata": {},
   "outputs": [
    {
     "data": {
      "text/plain": [
       "LogisticRegression(max_iter=50, n_jobs=-1, random_state=23)"
      ]
     },
     "execution_count": 92,
     "metadata": {},
     "output_type": "execute_result"
    }
   ],
   "source": [
    "model = LogisticRegression(n_jobs=-1,\n",
    "                           random_state=23,\n",
    "                           max_iter=50)\n",
    "model.fit(X_train2, y_train2)"
   ]
  },
  {
   "cell_type": "code",
   "execution_count": 93,
   "id": "51e7ec44",
   "metadata": {},
   "outputs": [
    {
     "data": {
      "text/plain": [
       "array(['Class 1', 'Class 2', 'Class 2', 'Class 1', 'Class 1'],\n",
       "      dtype=object)"
      ]
     },
     "execution_count": 93,
     "metadata": {},
     "output_type": "execute_result"
    }
   ],
   "source": [
    "y_preds = model.predict(X_test)\n",
    "y_preds[:5]"
   ]
  },
  {
   "cell_type": "code",
   "execution_count": 94,
   "id": "0a81fa4a",
   "metadata": {},
   "outputs": [
    {
     "data": {
      "text/plain": [
       "(3, 0)"
      ]
     },
     "execution_count": 94,
     "metadata": {},
     "output_type": "execute_result"
    }
   ],
   "source": [
    "misPatterns(y_preds, y_test)"
   ]
  },
  {
   "cell_type": "code",
   "execution_count": 95,
   "id": "359952ca",
   "metadata": {},
   "outputs": [
    {
     "data": {
      "text/plain": [
       "0.990625"
      ]
     },
     "execution_count": 95,
     "metadata": {},
     "output_type": "execute_result"
    }
   ],
   "source": [
    "model.score(X_test, y_test)"
   ]
  },
  {
   "cell_type": "markdown",
   "id": "a9f319ba",
   "metadata": {},
   "source": [
    "**Task 3. Summary:-** Created a function \"misPatterns\" that takes the predicted values and the actual labels as inputs and returns a tuple of misclassified patterns whose label is 1 but prediction is 2 as \"num1\", and misclassified patterns whose label is 2 but prediction is 1 as \"num2\". Trained the model \"LogisticRegression\" on the training set (II) and generated predictions on the test set. Used the the predicted labels and the actual labels to find misclassified patterns using the function \"misPatterns\"."
   ]
  },
  {
   "cell_type": "markdown",
   "id": "155c604c",
   "metadata": {},
   "source": [
    "# Task 4: \n",
    "### Investigate how the number of features in the training dataset affects the model performance on the validation set "
   ]
  },
  {
   "cell_type": "markdown",
   "id": "bde0c1ad",
   "metadata": {},
   "source": [
    "### a.) Use Training set II to train a number of D simple linear regression models, with D different feature sets. That is: the first one should use the 1st feature in the dataset only; the second one should use the 1st and the 2nd features in the dataset; the third one should use the 1st, 2nd, and 3rd features; the fourth one should use the first 4 features, and so on. \n",
    "* **Remember to scale the corresponding training set and the validation set.**\n"
   ]
  },
  {
   "cell_type": "code",
   "execution_count": 96,
   "id": "248d45a3",
   "metadata": {},
   "outputs": [
    {
     "data": {
      "text/plain": [
       "StandardScaler()"
      ]
     },
     "execution_count": 96,
     "metadata": {},
     "output_type": "execute_result"
    }
   ],
   "source": [
    "scaler = StandardScaler()\n",
    "scaler.fit(X_train2)"
   ]
  },
  {
   "cell_type": "code",
   "execution_count": 97,
   "id": "848f5ddd",
   "metadata": {},
   "outputs": [
    {
     "data": {
      "text/plain": [
       "array([[-0.21622138, -1.19357973],\n",
       "       [ 0.8144544 , -0.15558912],\n",
       "       [ 2.6467669 , -0.31948237],\n",
       "       ...,\n",
       "       [ 2.76128643, -0.81116214],\n",
       "       [-0.15896162,  1.0736103 ],\n",
       "       [ 0.52815557, -0.75653105]])"
      ]
     },
     "execution_count": 97,
     "metadata": {},
     "output_type": "execute_result"
    }
   ],
   "source": [
    "scaled_X_train2 = scaler.transform(X_train2)\n",
    "scaled_X_train2 = pd.DataFrame(scaled_X_train2)\n",
    "scaled_X_train2.values[:,:2]"
   ]
  },
  {
   "cell_type": "code",
   "execution_count": 98,
   "id": "7055e90c",
   "metadata": {},
   "outputs": [],
   "source": [
    "y_train1_num = y_train1.replace(to_replace=['Class 1', 'Class 2'], value=[0, 1])\n",
    "y_train2_num = y_train2.replace(to_replace=['Class 1', 'Class 2'], value=[0, 1])\n",
    "y_test_num = y_test.replace(to_replace=['Class 1', 'Class 2'], value=[0, 1])\n",
    "y_val_num = y_val.replace(to_replace=['Class 1', 'Class 2'], value=[0, 1])"
   ]
  },
  {
   "cell_type": "code",
   "execution_count": 99,
   "id": "aecb3ee3",
   "metadata": {},
   "outputs": [],
   "source": [
    "col_len = len(X_train2.columns)\n",
    "\n",
    "def separate_scores(X, y, column_length, dataset_type=None):\n",
    "    \"\"\"\n",
    "    Trains the passed dataset by increasing 1 feature at a time, starting with 1 feature.\n",
    "    \"\"\"\n",
    "    count = 0\n",
    "    dataset_type = input(\"Type of set used(train, val, test) = \")\n",
    "    for i in range(1, column_length+1):\n",
    "        model.fit(X.iloc[:,:i], y)\n",
    "        score = model.score(X.iloc[:,:i], y)\n",
    "    \n",
    "        if i > count:\n",
    "            count+=1\n",
    "    \n",
    "        if i==1 and dataset_type == \"train\":\n",
    "            print(\"Performance measurement on training set 2 of model trained with \" + str(i) + \" feature = \" + str(score))\n",
    "        elif dataset_type == \"train\":\n",
    "            print(\"Performance measurement on training set 2 of model trained with \" + str(i) + \" features = \" + str(score))\n",
    "        elif i==1 and dataset_type == \"val\":\n",
    "            print(\"Performance measurement on validation set of model trained with \" + str(i) + \" feature = \" + str(score))\n",
    "        else:\n",
    "            print(\"Performance measurement on validation set of model trained with \" + str(i) + \" features = \" + str(score))\n",
    "\n",
    "    print(f\"\\nMost suitable number of features = {count}\")"
   ]
  },
  {
   "cell_type": "code",
   "execution_count": 101,
   "id": "fd19af42",
   "metadata": {
    "scrolled": true
   },
   "outputs": [
    {
     "name": "stdout",
     "output_type": "stream",
     "text": [
      "Type of set used(train, val, test) = train\n",
      "Performance measurement on training set 2 of model trained with 1 feature = 0.5171065493646139\n",
      "Performance measurement on training set 2 of model trained with 2 features = 0.6608015640273704\n",
      "Performance measurement on training set 2 of model trained with 3 features = 0.6656891495601173\n",
      "Performance measurement on training set 2 of model trained with 4 features = 0.6656891495601173\n",
      "Performance measurement on training set 2 of model trained with 5 features = 0.6656891495601173\n",
      "Performance measurement on training set 2 of model trained with 6 features = 0.6666666666666666\n",
      "Performance measurement on training set 2 of model trained with 7 features = 0.6979472140762464\n",
      "Performance measurement on training set 2 of model trained with 8 features = 0.7204301075268817\n",
      "Performance measurement on training set 2 of model trained with 9 features = 0.7321603128054741\n",
      "Performance measurement on training set 2 of model trained with 10 features = 0.7458455522971652\n",
      "Performance measurement on training set 2 of model trained with 11 features = 0.7458455522971652\n",
      "Performance measurement on training set 2 of model trained with 12 features = 1.0\n",
      "\n",
      "Most suitable number of features = 12\n"
     ]
    }
   ],
   "source": [
    "separate_scores(scaled_X_train2,\n",
    "                y_train2_num,\n",
    "                column_length=col_len)\n",
    "\n",
    "# Type of set used(train, val, test) = train"
   ]
  },
  {
   "cell_type": "code",
   "execution_count": 102,
   "id": "73b4bfa0",
   "metadata": {},
   "outputs": [
    {
     "name": "stdout",
     "output_type": "stream",
     "text": [
      "Type of set used(train, val, test) = val\n",
      "Performance measurement on validation set of model trained with 1 feature = 0.5703125\n",
      "Performance measurement on validation set of model trained with 2 features = 0.58203125\n",
      "Performance measurement on validation set of model trained with 3 features = 0.58203125\n",
      "Performance measurement on validation set of model trained with 4 features = 0.6015625\n",
      "Performance measurement on validation set of model trained with 5 features = 0.61328125\n",
      "Performance measurement on validation set of model trained with 6 features = 0.609375\n",
      "Performance measurement on validation set of model trained with 7 features = 0.64453125\n",
      "Performance measurement on validation set of model trained with 8 features = 0.64453125\n",
      "Performance measurement on validation set of model trained with 9 features = 0.62109375\n",
      "Performance measurement on validation set of model trained with 10 features = 0.63671875\n",
      "Performance measurement on validation set of model trained with 11 features = 0.7265625\n",
      "Performance measurement on validation set of model trained with 12 features = 0.99609375\n",
      "\n",
      "Most suitable number of features = 12\n"
     ]
    }
   ],
   "source": [
    "separate_scores(X_val,\n",
    "                y_val_num,\n",
    "                column_length=col_len)\n",
    "\n",
    "# Type of set used(train, val, test) = val"
   ]
  },
  {
   "cell_type": "markdown",
   "id": "4ac33568",
   "metadata": {},
   "source": [
    "### b.) Produce a learning curve of the number of features used against the performance measurements. The performance should be measured on both Training set II and the validation set.\n"
   ]
  },
  {
   "cell_type": "code",
   "execution_count": 103,
   "id": "23597949",
   "metadata": {},
   "outputs": [],
   "source": [
    "def plot_learning_curve(estimator, X, y, set_type=None):\n",
    "    \"\"\"\n",
    "    Produces a learning curve of the number of features used against the performance measurements.\n",
    "    \"\"\"\n",
    "    set_type = input(\"Type of set used(train, val, test) = \")\n",
    "    train_size, train_score, test_scores = learning_curve(estimator,\n",
    "                                                          X,\n",
    "                                                          y,\n",
    "                                                          n_jobs=-1)\n",
    "    train_mean = np.mean(train_score, axis=1)\n",
    "    test_mean = np.mean(test_scores, axis=1)\n",
    "    \n",
    "    plt.plot(train_size, train_mean, label=\"Training Score\")\n",
    "    plt.plot(train_size, test_mean, label=\"Validation Score\")\n",
    "    \n",
    "    if set_type == \"train\":\n",
    "        plt.title(\"Learning Curve for Training Set 2\")\n",
    "    elif set_type == \"val\":\n",
    "        plt.title(\"Learning Curve for Validation Set\")\n",
    "        \n",
    "    plt.xlabel(\"Training Size\")\n",
    "    plt.ylabel(\"Accuracy Score\")\n",
    "    plt.legend(loc = \"best\");"
   ]
  },
  {
   "cell_type": "code",
   "execution_count": 104,
   "id": "fdae2918",
   "metadata": {},
   "outputs": [
    {
     "name": "stdout",
     "output_type": "stream",
     "text": [
      "Type of set used(train, val, test) = train\n"
     ]
    },
    {
     "data": {
      "image/png": "[encoded data removed]",
      "text/plain": [
       "<Figure size 432x288 with 1 Axes>"
      ]
     },
     "metadata": {
      "needs_background": "light"
     },
     "output_type": "display_data"
    }
   ],
   "source": [
    "plot_learning_curve(model, scaled_X_train2, y_train2_num)\n",
    "\n",
    "# Type of set used(train, val, test) = train"
   ]
  },
  {
   "cell_type": "code",
   "execution_count": 105,
   "id": "ebbec3bb",
   "metadata": {},
   "outputs": [
    {
     "name": "stdout",
     "output_type": "stream",
     "text": [
      "Type of set used(train, val, test) = val\n"
     ]
    },
    {
     "data": {
      "image/png": "[encoded data removed]",
      "text/plain": [
       "<Figure size 432x288 with 1 Axes>"
      ]
     },
     "metadata": {
      "needs_background": "light"
     },
     "output_type": "display_data"
    }
   ],
   "source": [
    "plot_learning_curve(model, X_val, y_val_num)\n",
    "\n",
    "# Type of set used(train, val, test) = val"
   ]
  },
  {
   "cell_type": "markdown",
   "id": "7125a2f9",
   "metadata": {},
   "source": [
    "### c.) Use the most suitable number of features to train the model using Training_set_I and report the performance on the test set. \n",
    "* **Remember to scale the corresponding training and test sets**\n"
   ]
  },
  {
   "cell_type": "code",
   "execution_count": 106,
   "id": "4c419589",
   "metadata": {},
   "outputs": [
    {
     "data": {
      "text/html": [
       "<div>\n",
       "<style scoped>\n",
       "    .dataframe tbody tr th:only-of-type {\n",
       "        vertical-align: middle;\n",
       "    }\n",
       "\n",
       "    .dataframe tbody tr th {\n",
       "        vertical-align: top;\n",
       "    }\n",
       "\n",
       "    .dataframe thead th {\n",
       "        text-align: right;\n",
       "    }\n",
       "</style>\n",
       "<table border=\"1\" class=\"dataframe\">\n",
       "  <thead>\n",
       "    <tr style=\"text-align: right;\">\n",
       "      <th></th>\n",
       "      <th>fixed acidity</th>\n",
       "      <th>volatile acidity</th>\n",
       "      <th>citric acid</th>\n",
       "      <th>residual sugar</th>\n",
       "      <th>chlorides</th>\n",
       "      <th>free sulfur dioxide</th>\n",
       "      <th>total sulfur dioxide</th>\n",
       "      <th>density</th>\n",
       "      <th>pH</th>\n",
       "      <th>sulphates</th>\n",
       "      <th>alcohol</th>\n",
       "      <th>quality</th>\n",
       "    </tr>\n",
       "  </thead>\n",
       "  <tbody>\n",
       "    <tr>\n",
       "      <th>1446</th>\n",
       "      <td>6.9</td>\n",
       "      <td>0.63</td>\n",
       "      <td>0.02</td>\n",
       "      <td>1.9</td>\n",
       "      <td>0.078</td>\n",
       "      <td>18.0</td>\n",
       "      <td>30.0</td>\n",
       "      <td>0.99712</td>\n",
       "      <td>3.40</td>\n",
       "      <td>0.75</td>\n",
       "      <td>9.8</td>\n",
       "      <td>5</td>\n",
       "    </tr>\n",
       "    <tr>\n",
       "      <th>578</th>\n",
       "      <td>8.8</td>\n",
       "      <td>0.47</td>\n",
       "      <td>0.49</td>\n",
       "      <td>2.9</td>\n",
       "      <td>0.085</td>\n",
       "      <td>17.0</td>\n",
       "      <td>110.0</td>\n",
       "      <td>0.99820</td>\n",
       "      <td>3.29</td>\n",
       "      <td>0.60</td>\n",
       "      <td>9.8</td>\n",
       "      <td>5</td>\n",
       "    </tr>\n",
       "    <tr>\n",
       "      <th>21</th>\n",
       "      <td>7.6</td>\n",
       "      <td>0.39</td>\n",
       "      <td>0.31</td>\n",
       "      <td>2.3</td>\n",
       "      <td>0.082</td>\n",
       "      <td>23.0</td>\n",
       "      <td>71.0</td>\n",
       "      <td>0.99820</td>\n",
       "      <td>3.52</td>\n",
       "      <td>0.65</td>\n",
       "      <td>9.7</td>\n",
       "      <td>5</td>\n",
       "    </tr>\n",
       "    <tr>\n",
       "      <th>123</th>\n",
       "      <td>8.0</td>\n",
       "      <td>0.71</td>\n",
       "      <td>0.00</td>\n",
       "      <td>2.6</td>\n",
       "      <td>0.080</td>\n",
       "      <td>11.0</td>\n",
       "      <td>34.0</td>\n",
       "      <td>0.99760</td>\n",
       "      <td>3.44</td>\n",
       "      <td>0.53</td>\n",
       "      <td>9.5</td>\n",
       "      <td>5</td>\n",
       "    </tr>\n",
       "    <tr>\n",
       "      <th>620</th>\n",
       "      <td>8.3</td>\n",
       "      <td>0.54</td>\n",
       "      <td>0.24</td>\n",
       "      <td>3.4</td>\n",
       "      <td>0.076</td>\n",
       "      <td>16.0</td>\n",
       "      <td>112.0</td>\n",
       "      <td>0.99760</td>\n",
       "      <td>3.27</td>\n",
       "      <td>0.61</td>\n",
       "      <td>9.4</td>\n",
       "      <td>5</td>\n",
       "    </tr>\n",
       "  </tbody>\n",
       "</table>\n",
       "</div>"
      ],
      "text/plain": [
       "      fixed acidity  volatile acidity  citric acid  residual sugar  chlorides  \\\n",
       "1446            6.9              0.63         0.02             1.9      0.078   \n",
       "578             8.8              0.47         0.49             2.9      0.085   \n",
       "21              7.6              0.39         0.31             2.3      0.082   \n",
       "123             8.0              0.71         0.00             2.6      0.080   \n",
       "620             8.3              0.54         0.24             3.4      0.076   \n",
       "\n",
       "      free sulfur dioxide  total sulfur dioxide  density    pH  sulphates  \\\n",
       "1446                 18.0                  30.0  0.99712  3.40       0.75   \n",
       "578                  17.0                 110.0  0.99820  3.29       0.60   \n",
       "21                   23.0                  71.0  0.99820  3.52       0.65   \n",
       "123                  11.0                  34.0  0.99760  3.44       0.53   \n",
       "620                  16.0                 112.0  0.99760  3.27       0.61   \n",
       "\n",
       "      alcohol  quality  \n",
       "1446      9.8        5  \n",
       "578       9.8        5  \n",
       "21        9.7        5  \n",
       "123       9.5        5  \n",
       "620       9.4        5  "
      ]
     },
     "execution_count": 106,
     "metadata": {},
     "output_type": "execute_result"
    }
   ],
   "source": [
    "X_train1.iloc[:, :12].head()"
   ]
  },
  {
   "cell_type": "code",
   "execution_count": 107,
   "id": "9921145b",
   "metadata": {},
   "outputs": [
    {
     "data": {
      "text/plain": [
       "LogisticRegression(max_iter=50, n_jobs=-1, random_state=23)"
      ]
     },
     "execution_count": 107,
     "metadata": {},
     "output_type": "execute_result"
    }
   ],
   "source": [
    "model.fit(X_train1, y_train1)"
   ]
  },
  {
   "cell_type": "code",
   "execution_count": 108,
   "id": "7ef44134",
   "metadata": {},
   "outputs": [
    {
     "data": {
      "text/plain": [
       "0.990625"
      ]
     },
     "execution_count": 108,
     "metadata": {},
     "output_type": "execute_result"
    }
   ],
   "source": [
    "model.score(X_test, y_test)"
   ]
  },
  {
   "cell_type": "code",
   "execution_count": 109,
   "id": "da88f77c",
   "metadata": {},
   "outputs": [
    {
     "data": {
      "image/png": "[encoded data removed]",
      "text/plain": [
       "<Figure size 288x288 with 1 Axes>"
      ]
     },
     "metadata": {
      "needs_background": "light"
     },
     "output_type": "display_data"
    }
   ],
   "source": [
    "fig, ax = plt.subplots(figsize=(4, 4))\n",
    "ax = sns.heatmap(confusion_matrix(y_test, y_preds),\n",
    "                 annot=True,\n",
    "                 cbar=False,\n",
    "                 fmt=\".1f\")\n",
    "plt.xlabel('True labels')\n",
    "plt.ylabel('Predicted labels');\n",
    "\n",
    "# Same result as Task 4.(b)"
   ]
  },
  {
   "cell_type": "code",
   "execution_count": 110,
   "id": "199185be",
   "metadata": {},
   "outputs": [
    {
     "name": "stdout",
     "output_type": "stream",
     "text": [
      "              precision    recall  f1-score   support\n",
      "\n",
      "     Class 1       1.00      0.98      0.99       174\n",
      "     Class 2       0.98      1.00      0.99       146\n",
      "\n",
      "    accuracy                           0.99       320\n",
      "   macro avg       0.99      0.99      0.99       320\n",
      "weighted avg       0.99      0.99      0.99       320\n",
      "\n"
     ]
    }
   ],
   "source": [
    "print(classification_report(y_test, y_preds))"
   ]
  },
  {
   "cell_type": "code",
   "execution_count": 111,
   "id": "141628d0",
   "metadata": {},
   "outputs": [
    {
     "data": {
      "text/plain": [
       "0.9875"
      ]
     },
     "execution_count": 111,
     "metadata": {},
     "output_type": "execute_result"
    }
   ],
   "source": [
    "cv_acc = cross_val_score(model,\n",
    "                         X_test,\n",
    "                         y_test_num,\n",
    "                         cv=5,\n",
    "                         scoring='accuracy')\n",
    "np.mean(cv_acc)"
   ]
  },
  {
   "cell_type": "code",
   "execution_count": 112,
   "id": "4aba04d9",
   "metadata": {},
   "outputs": [
    {
     "data": {
      "text/plain": [
       "0.9797701149425289"
      ]
     },
     "execution_count": 112,
     "metadata": {},
     "output_type": "execute_result"
    }
   ],
   "source": [
    "cv_precision = cross_val_score(model,\n",
    "                               X_test,\n",
    "                               y_test_num,\n",
    "                               cv=5,\n",
    "                               scoring='precision')\n",
    "np.mean(cv_precision)"
   ]
  },
  {
   "cell_type": "code",
   "execution_count": 113,
   "id": "d734868c",
   "metadata": {},
   "outputs": [
    {
     "data": {
      "text/plain": [
       "0.993103448275862"
      ]
     },
     "execution_count": 113,
     "metadata": {},
     "output_type": "execute_result"
    }
   ],
   "source": [
    "cv_recall = cross_val_score(model,\n",
    "                               X_test,\n",
    "                               y_test_num,\n",
    "                               cv=5,\n",
    "                               scoring='recall')\n",
    "np.mean(cv_recall)"
   ]
  },
  {
   "cell_type": "code",
   "execution_count": 114,
   "id": "ae19df41",
   "metadata": {},
   "outputs": [
    {
     "data": {
      "text/plain": [
       "0.986323787258913"
      ]
     },
     "execution_count": 114,
     "metadata": {},
     "output_type": "execute_result"
    }
   ],
   "source": [
    "cv_f1 = cross_val_score(model,\n",
    "                        X_test,\n",
    "                        y_test_num,\n",
    "                        cv=5,\n",
    "                        scoring='f1')\n",
    "np.mean(cv_f1)"
   ]
  },
  {
   "cell_type": "code",
   "execution_count": 115,
   "id": "cadec107",
   "metadata": {},
   "outputs": [
    {
     "data": {
      "image/png": "[encoded data removed]",
      "text/plain": [
       "<Figure size 720x360 with 1 Axes>"
      ]
     },
     "metadata": {
      "needs_background": "light"
     },
     "output_type": "display_data"
    }
   ],
   "source": [
    "cv_metrics = pd.DataFrame({'Accuracy': cv_acc,\n",
    "                           'Precision': cv_precision,\n",
    "                           'Recall': cv_recall,\n",
    "                           'F1':cv_f1})\n",
    "cv_metrics.plot.bar(figsize = (10, 5), \n",
    "                    title='Cross-validated classification metrics');\n",
    "plt.legend(loc=\"lower right\")\n",
    "plt.xticks(rotation=0);"
   ]
  },
  {
   "cell_type": "markdown",
   "id": "56ea888d",
   "metadata": {},
   "source": [
    "**Task 4. Summary:-** Scaled the training set (II) and transformed the categorical data into numerical data. Created the function \"separate_scores\" that trains the model starting with 1 feature and then increasing 1 feature to train the model at a time. It returns the efficiency on each iteration and the most suitable number of features for training the model. Used this function to train and evaluate for training set (II) and the validation set. Created function \"plot_learning_curve\" to plot learning curves. Produced learning curves for training set (II) and validation set. In Task 4.(c) I used the most suitable number of features, i.e.; 12, to train the training set (I) and checked the score on the test set. Used the predictions generated in Task 3.(b) to produce and visualize confusion matrix. Generated classification report and visualized the cross validated classification metrics."
   ]
  },
  {
   "cell_type": "code",
   "execution_count": null,
   "id": "e373f60f",
   "metadata": {},
   "outputs": [],
   "source": []
  },
  {
   "cell_type": "code",
   "execution_count": null,
   "id": "ba66dc20",
   "metadata": {},
   "outputs": [],
   "source": []
  },
  {
   "cell_type": "code",
   "execution_count": null,
   "id": "a0d44df8",
   "metadata": {},
   "outputs": [],
   "source": []
  },
  {
   "cell_type": "code",
   "execution_count": null,
   "id": "4e29ee3c",
   "metadata": {},
   "outputs": [],
   "source": []
  }
 ],
 "metadata": {
  "kernelspec": {
   "display_name": "Python 3 (ipykernel)",
   "language": "python",
   "name": "python3"
  },
  "language_info": {
   "codemirror_mode": {
    "name": "ipython",
    "version": 3
   },
   "file_extension": ".py",
   "mimetype": "text/x-python",
   "name": "python",
   "nbconvert_exporter": "python",
   "pygments_lexer": "ipython3",
   "version": "3.9.5"
  }
 },
 "nbformat": 4,
 "nbformat_minor": 5
}
